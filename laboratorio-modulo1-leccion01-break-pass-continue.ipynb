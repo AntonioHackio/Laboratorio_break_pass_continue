{
 "cells": [
  {
   "cell_type": "markdown",
   "metadata": {},
   "source": [
    "\n",
    "<div style=\"text-align: center;\">\n",
    "  <img src=\"https://github.com/Hack-io-Data/Imagenes/blob/main/01-LogosHackio/logo_celeste@4x.png?raw=true\" alt=\"esquema\" />\n",
    "</div>\n"
   ]
  },
  {
   "cell_type": "markdown",
   "metadata": {},
   "source": [
    "# Laboratorio de Python: break(), pass(), continue()"
   ]
  },
  {
   "cell_type": "markdown",
   "metadata": {},
   "source": [
    "## Ejercicio 1: Validación de datos numéricos. \n",
    "\n",
    "Escribe un bucle que lea una lista de números y detenga la ejecución si encuentra un valor negativo. Muestra un mensaje indicando el número negativo encontrado.\n"
   ]
  },
  {
   "cell_type": "code",
   "execution_count": 21,
   "metadata": {},
   "outputs": [
    {
     "name": "stdout",
     "output_type": "stream",
     "text": [
      "1\n",
      "2\n",
      "6\n",
      "4\n",
      "8\n",
      "9\n",
      "18\n",
      "87\n",
      "89\n",
      "-23\n",
      "Paramos porque el número es negativo\n"
     ]
    }
   ],
   "source": [
    "numeros = [1, 2, 6, 4, 8, 9, 18, 87, 89, -23, 95, 89]\n",
    "\n",
    "for numero in numeros:\n",
    "    print(numero)\n",
    "    if numero < 0:\n",
    "        break\n",
    "\n",
    "print(\"Paramos porque el número es negativo\")    \n"
   ]
  },
  {
   "cell_type": "markdown",
   "metadata": {},
   "source": [
    "\n",
    "## Ejercicio 2: Filtrado de datos\n",
    "\n",
    "Escribe un bucle que imprima los números de una lista, pero que omita los números pares.\n"
   ]
  },
  {
   "cell_type": "code",
   "execution_count": 23,
   "metadata": {},
   "outputs": [
    {
     "name": "stdout",
     "output_type": "stream",
     "text": [
      "1\n",
      "9\n",
      "87\n",
      "89\n",
      "-23\n",
      "95\n",
      "89\n"
     ]
    }
   ],
   "source": [
    "numeros = [1, 2, 6, 4, 8, 9, 18, 87, 89, -23, 95, 89]\n",
    "\n",
    "for numero in numeros:\n",
    "    if numero %2 != 0:\n",
    "        print(numero)\n",
    "\n"
   ]
  },
  {
   "cell_type": "markdown",
   "metadata": {},
   "source": [
    "## Ejercicio 3: Búsqueda de un valor\n",
    "\n",
    "Escribe un programa que busque un valor específico en una lista y detenga la búsqueda cuando lo encuentre. Si se encuentra, muestra un mensaje.\n"
   ]
  },
  {
   "cell_type": "code",
   "execution_count": 29,
   "metadata": {},
   "outputs": [
    {
     "name": "stdout",
     "output_type": "stream",
     "text": [
      "Mariano\n",
      "Antonio\n",
      "Arancha\n",
      "la detenida en busca y captura Arancha ha sido encontrada\n"
     ]
    }
   ],
   "source": [
    "detenidos = [\"Mariano\", \"Antonio\", \"Arancha\", \"Maria Jesus\"]\n",
    "\n",
    "for detenido in detenidos:\n",
    "    print(detenido)\n",
    "    if detenido == \"Arancha\":\n",
    "        break\n",
    "\n",
    "print(f\"la detenida en busca y captura {detenido} ha sido encontrada\")"
   ]
  },
  {
   "cell_type": "markdown",
   "metadata": {},
   "source": [
    "## Ejercicio 4: Estructura de código incompleto\n",
    "\n",
    "Define una función que aún no tenga lógica implementada, pero que se pueda ejecutar sin errores utilizando `pass`."
   ]
  },
  {
   "cell_type": "code",
   "execution_count": 177,
   "metadata": {},
   "outputs": [
    {
     "name": "stdout",
     "output_type": "stream",
     "text": [
      "Se va para la hucha\n",
      "Se va para la hucha\n",
      "Se va para la hucha\n",
      "Se va para la hucha\n",
      "se va para el armario\n",
      "se va para el armario\n",
      "Se va para la hucha\n",
      "Se va para la hucha\n",
      "Se va para la hucha\n",
      "Se va para la hucha\n",
      "Se va para la hucha\n",
      "Se va para la hucha\n",
      "Se va para la hucha\n"
     ]
    }
   ],
   "source": [
    "cajon = [\"6\", \"2\", \"10\", \"45\", \"osito de peluche\", \"cochecito\",  \"67\", \"3\", \"23\", \"45\", \"56\", \"67\", \"78\"]\n",
    "\n",
    "def mi_funcion_incompleta():\n",
    "    for objeto in cajon:\n",
    "        if not objeto.isdigit():\n",
    "            pass\n",
    "            print(\"se va para el armario\")\n",
    "        else:\n",
    "            print(\"Se va para la hucha\")     \n",
    " \n",
    "        \n",
    "mi_funcion_incompleta()  "
   ]
  },
  {
   "cell_type": "markdown",
   "metadata": {},
   "source": [
    "## Ejercicio 5: Validación condicional\n",
    "\n",
    "Escribe un bucle que verifique una lista de nombres. Si encuentra un nombre vacío (cadena vacía), salta esa iteración y continúa con los demás nombres.\n"
   ]
  },
  {
   "cell_type": "code",
   "execution_count": 104,
   "metadata": {},
   "outputs": [
    {
     "name": "stdout",
     "output_type": "stream",
     "text": [
      "Arancha\n",
      "Manuel\n",
      "Fernando\n",
      "Antonio\n",
      "Juan\n",
      "Felipe\n"
     ]
    }
   ],
   "source": [
    "lista_nombres = [\"Arancha\", \"Manuel\", \"Fernando\", \"Antonio\", \"\", \"Juan\", \"\", \"Felipe\"]\n",
    "\n",
    "for nombre in lista_nombres:\n",
    "    if len(nombre) == 0:\n",
    "        continue\n",
    "    else:\n",
    "        print(f\"{nombre}\")"
   ]
  },
  {
   "cell_type": "markdown",
   "metadata": {},
   "source": [
    "## Ejercicio 6: Búsqueda de claves en un diccionario\n",
    "\n",
    "Escribe un programa que recorra un diccionario y detenga la búsqueda si encuentra una clave específica pasada por el usuario.\n"
   ]
  },
  {
   "cell_type": "code",
   "execution_count": null,
   "metadata": {},
   "outputs": [
    {
     "name": "stdout",
     "output_type": "stream",
     "text": [
      "Antonio\n",
      "Fernando\n"
     ]
    }
   ],
   "source": [
    "mi_diccionario = {'Antonio' : 6, 'Fernando' : 7, 'Adrian' : 8}\n",
    "\n",
    "for clave in mi_diccionario:\n",
    "    print(clave)\n",
    "    if clave == 'Fernando': \n",
    "        break     "
   ]
  },
  {
   "cell_type": "markdown",
   "metadata": {},
   "source": [
    "## Ejercicio 7: Bucle con múltiples excepciones\n",
    "\n",
    "Escribe un bucle que procese una lista de operaciones matemáticas, omitiendo las operaciones que intenten dividir por cero.\n"
   ]
  },
  {
   "cell_type": "code",
   "execution_count": 176,
   "metadata": {},
   "outputs": [
    {
     "name": "stdout",
     "output_type": "stream",
     "text": [
      "4.0\n"
     ]
    }
   ],
   "source": [
    "\n",
    "operaciones = [['/', 6, 0],['/', 80, 20]]\n",
    "\n",
    "for simbolo, num1, num2 in operaciones:\n",
    "    if num2 == 0:\n",
    "        continue\n",
    "\n",
    "    if operador == '/':\n",
    "        resultado = num1 / num2\n",
    "        print(resultado) "
   ]
  },
  {
   "cell_type": "markdown",
   "metadata": {},
   "source": [
    "## Ejercicio 8: Búsqueda en una lista anidada\n",
    "\n",
    "Escribe un programa que recorra una lista de listas y detenga la búsqueda cuando encuentre un valor mayor a 50.\n"
   ]
  },
  {
   "cell_type": "code",
   "execution_count": null,
   "metadata": {},
   "outputs": [
    {
     "name": "stdout",
     "output_type": "stream",
     "text": [
      "90\n"
     ]
    }
   ],
   "source": [
    "lista_de_listas = [[20, 90, 40], [35, 60, 20]]\n",
    "\n",
    "for lista in lista_de_listas:\n",
    "\n",
    "    for numero in lista:\n",
    "        if numero > 50:\n",
    "            print(numero)\n",
    "            break\n",
    "    else:\n",
    "        continue\n",
    "    break    "
   ]
  },
  {
   "cell_type": "markdown",
   "metadata": {},
   "source": [
    "## Ejercicio 9: Evaluación de series temporales\n",
    "\n",
    "Escribe un programa que recorra una lista de datos de series temporales y se detenga si encuentra un valor atípico (mayor a 100).\n"
   ]
  },
  {
   "cell_type": "code",
   "execution_count": 173,
   "metadata": {},
   "outputs": [
    {
     "name": "stdout",
     "output_type": "stream",
     "text": [
      "15\n",
      "56\n",
      "68\n",
      "El valor 5895 es un valor atipico\n"
     ]
    }
   ],
   "source": [
    "lista_temporal = [15, 56, 68, 5895, 54, 63]\n",
    "\n",
    "for numero in lista_temporal:\n",
    "    if numero < 100:\n",
    "        print(numero)\n",
    "    elif numero > 100:\n",
    "        print(f'El valor {numero} es un valor atipico')\n",
    "        break"
   ]
  },
  {
   "cell_type": "markdown",
   "metadata": {},
   "source": [
    "## Ejercicio 10: Iteración con valores faltantes\n",
    "\n",
    "Crea un bucle que recorra una lista de datos de ventas y salte los valores faltantes representados por `None`."
   ]
  },
  {
   "cell_type": "code",
   "execution_count": 174,
   "metadata": {},
   "outputs": [
    {
     "name": "stdout",
     "output_type": "stream",
     "text": [
      "15\n",
      "56\n",
      "68\n",
      "63\n",
      "89\n",
      "90\n",
      "46\n"
     ]
    }
   ],
   "source": [
    "ventas = [15, 56, 68, None, None, 63, None, 89, 90, None, 46]\n",
    "\n",
    "for numero in ventas:\n",
    "    if numero is None:\n",
    "       continue\n",
    "    print(numero)"
   ]
  },
  {
   "cell_type": "markdown",
   "metadata": {},
   "source": [
    "## Ejercicio 11: Control de flujo en bucles anidados\n",
    "\n",
    "Escribe un bucle que recorra la matriz dada y se detenga si se encuentra un número negativo, mostrando su posición.\n",
    "\n"
   ]
  },
  {
   "cell_type": "code",
   "execution_count": null,
   "metadata": {},
   "outputs": [
    {
     "name": "stdout",
     "output_type": "stream",
     "text": [
      "Negativo encontrado en la fila: 0, digito 1 y el valor es: -56\n"
     ]
    }
   ],
   "source": [
    "matriz = [\n",
    "    [15, -56, 68],\n",
    "    [8, 70, 63],\n",
    "    [-2, 89, 90]]\n",
    "\n",
    "for posicion1, fila in enumerate(matriz):\n",
    "    for posicion2, numero in enumerate(fila):\n",
    "        if numero < 0:\n",
    "            print(f'Negativo encontrado en la fila: {posicion1}, digito {posicion2} y el valor es: {numero}')\n",
    "            break\n",
    "    else:\n",
    "        continue\n",
    "    break "
   ]
  }
 ],
 "metadata": {
  "kernelspec": {
   "display_name": "Python 3",
   "language": "python",
   "name": "python3"
  },
  "language_info": {
   "codemirror_mode": {
    "name": "ipython",
    "version": 3
   },
   "file_extension": ".py",
   "mimetype": "text/x-python",
   "name": "python",
   "nbconvert_exporter": "python",
   "pygments_lexer": "ipython3",
   "version": "3.13.0"
  }
 },
 "nbformat": 4,
 "nbformat_minor": 2
}
